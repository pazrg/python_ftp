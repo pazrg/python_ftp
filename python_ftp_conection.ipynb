{
 "cells": [
  {
   "cell_type": "code",
   "execution_count": 18,
   "metadata": {
    "collapsed": true
   },
   "outputs": [],
   "source": [
    "import ftplib #library for ftp transferences"
   ]
  },
  {
   "cell_type": "code",
   "execution_count": 17,
   "metadata": {
    "collapsed": false
   },
   "outputs": [
    {
     "name": "stdout",
     "output_type": "stream",
     "text": [
      "C:\\Users\\Paz\n"
     ]
    }
   ],
   "source": [
    "#Here we will download a file from CMEMS catalogue http://marine.copernicus.eu/ and to do that you\n",
    "#should sign-up as user\n",
    "#Our aimed directory will be instu-observations for the mediterranean basin and, within it, the file 'index_history.txt'\n",
    "\n",
    "#So we establish first arguments for the FTP function in python ftplib:\n",
    "\n",
    "host = \"medinsitu.hcmr.gr\" #aimed organization ie; from CMEMS catalogue ftp: //medinsitu.hcmr.gr/Core/INSITU_MED_TS_REP_OBSERVATIONS_013_041/\n",
    "user = #your user id within colons\n",
    "password = # your password id within colons\n",
    "ftp = ftplib.FTP(host, user, password) #ftp call\n",
    "ftp.cwd(\"Core/INSITU_MED_TS_REP_OBSERVATIONS_013_041\") #aimed directory\n",
    "\n",
    "#the idea is copying on a local_file the content of the remote_file within the previous aimed directory\n",
    "remote_filename = \"index_history.txt\"\n",
    "\n",
    "#so first: create a local_file ready to be written\n",
    "local_filename = remote_filename #same of remote_file but within a new directory called data\n",
    "local_file = open(local_filename, 'wb') #open for binary writting\n",
    "\n",
    "#second: we retrieve the content of the remote document and write it to the local\n",
    "ftp.retrbinary('RETR ' + remote_filename, local_file.write) #mind the blank space in 'RETR '\n",
    "\n",
    "#third: close file and ftp operation\n",
    "local_file.close()\n",
    "ftp.quit()"
   ]
  },
  {
   "cell_type": "code",
   "execution_count": 20,
   "metadata": {
    "collapsed": false
   },
   "outputs": [
    {
     "name": "stdout",
     "output_type": "stream",
     "text": [
      "C:\\Users\\Paz\n"
     ]
    }
   ],
   "source": [
    "#your file is:\n",
    "import os # python library to interactuate with the underlying operating system that Python is running on\n",
    "print(os.path.dirname(os.path.abspath(local_filename)))"
   ]
  },
  {
   "cell_type": "code",
   "execution_count": null,
   "metadata": {
    "collapsed": true
   },
   "outputs": [],
   "source": [
    "#in case of wanting to download several files you may consider listing the directory contents and iterate all along.\n",
    "#to do that have a look to ftp.nlst"
   ]
  }
 ],
 "metadata": {
  "anaconda-cloud": {},
  "kernelspec": {
   "display_name": "Python [Root]",
   "language": "python",
   "name": "Python [Root]"
  },
  "language_info": {
   "codemirror_mode": {
    "name": "ipython",
    "version": 3
   },
   "file_extension": ".py",
   "mimetype": "text/x-python",
   "name": "python",
   "nbconvert_exporter": "python",
   "pygments_lexer": "ipython3",
   "version": "3.5.2"
  }
 },
 "nbformat": 4,
 "nbformat_minor": 0
}
